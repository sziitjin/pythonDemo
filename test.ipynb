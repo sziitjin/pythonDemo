{
 "cells": [
  {
   "cell_type": "code",
   "metadata": {
    "ExecuteTime": {
     "end_time": "2024-06-03T09:38:32.926028Z",
     "start_time": "2024-06-03T09:38:32.895112Z"
    }
   },
   "source": [
    "class Father:\n",
    "    name = 'ji2n'\n",
    "    age = 38\n",
    "    sex = 'man'\n",
    "\n",
    "    def __init__(self, name):\n",
    "        self.name = name\n",
    "\n",
    "    def get_sex(self):\n",
    "        return self.sex\n",
    "\n",
    "    def speak(self):\n",
    "        print('my name is {0}, age is {1}, sex is {2}'.format(self.name, self.age, self.sex))\n",
    "\n",
    "\n",
    "class Son(Father):\n",
    "    name = 'suk'\n",
    "\n",
    "    def __init__(self, name):\n",
    "        super().__init__(name)\n",
    "        self.name = name\n",
    "\n",
    "    def get_name(self):\n",
    "        return self.name\n",
    "\n",
    "obj = Son('jin')\n",
    "obj.age = 18\n",
    "obj.speak()\n"
   ],
   "outputs": [
    {
     "name": "stdout",
     "output_type": "stream",
     "text": [
      "my name is jin, age is 18, sex is man\n"
     ]
    }
   ],
   "execution_count": 1
  },
  {
   "metadata": {},
   "cell_type": "code",
   "outputs": [],
   "execution_count": null,
   "source": ""
  }
 ],
 "metadata": {
  "kernelspec": {
   "display_name": "Python 3.9.12 ('base')",
   "language": "python",
   "name": "python3"
  },
  "language_info": {
   "codemirror_mode": {
    "name": "ipython",
    "version": 3
   },
   "file_extension": ".py",
   "mimetype": "text/x-python",
   "name": "python",
   "nbconvert_exporter": "python",
   "pygments_lexer": "ipython3",
   "version": "3.10.13"
  },
  "vscode": {
   "interpreter": {
    "hash": "caa79e79b13b4a24ed1e40b8fd425b38aacc1b8fb3707c3bea2d025878df32c5"
   }
  }
 },
 "nbformat": 4,
 "nbformat_minor": 2
}
